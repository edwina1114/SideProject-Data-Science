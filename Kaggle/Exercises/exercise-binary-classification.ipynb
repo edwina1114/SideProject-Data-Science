{
 "cells": [
  {
   "cell_type": "markdown",
   "id": "3bebe421",
   "metadata": {
    "papermill": {
     "duration": 0.004072,
     "end_time": "2024-12-27T10:28:05.918897",
     "exception": false,
     "start_time": "2024-12-27T10:28:05.914825",
     "status": "completed"
    },
    "tags": []
   },
   "source": [
    "**This notebook is an exercise in the [Intro to Deep Learning](https://www.kaggle.com/learn/intro-to-deep-learning) course.  You can reference the tutorial at [this link](https://www.kaggle.com/ryanholbrook/binary-classification).**\n",
    "\n",
    "---\n"
   ]
  },
  {
   "cell_type": "markdown",
   "id": "e28026e3",
   "metadata": {
    "papermill": {
     "duration": 0.003338,
     "end_time": "2024-12-27T10:28:05.926120",
     "exception": false,
     "start_time": "2024-12-27T10:28:05.922782",
     "status": "completed"
    },
    "tags": []
   },
   "source": [
    "# Introduction #\n",
    "\n",
    "In this exercise, you'll build a model to predict hotel cancellations with a binary classifier."
   ]
  },
  {
   "cell_type": "code",
   "execution_count": 1,
   "id": "972bea41",
   "metadata": {
    "execution": {
     "iopub.execute_input": "2024-12-27T10:28:05.935127Z",
     "iopub.status.busy": "2024-12-27T10:28:05.934734Z",
     "iopub.status.idle": "2024-12-27T10:28:06.912917Z",
     "shell.execute_reply": "2024-12-27T10:28:06.911571Z"
    },
    "lines_to_next_cell": 0,
    "papermill": {
     "duration": 0.986158,
     "end_time": "2024-12-27T10:28:06.915744",
     "exception": false,
     "start_time": "2024-12-27T10:28:05.929586",
     "status": "completed"
    },
    "tags": []
   },
   "outputs": [
    {
     "name": "stderr",
     "output_type": "stream",
     "text": [
      "/tmp/ipykernel_18/3338970720.py:3: MatplotlibDeprecationWarning: The seaborn styles shipped by Matplotlib are deprecated since 3.6, as they no longer correspond to the styles shipped by seaborn. However, they will remain available as 'seaborn-v0_8-<style>'. Alternatively, directly use the seaborn API instead.\n",
      "  plt.style.use('seaborn-whitegrid')\n"
     ]
    }
   ],
   "source": [
    "# Setup plotting\n",
    "import matplotlib.pyplot as plt\n",
    "plt.style.use('seaborn-whitegrid')\n",
    "# Set Matplotlib defaults\n",
    "plt.rc('figure', autolayout=True)\n",
    "plt.rc('axes', labelweight='bold', labelsize='large',\n",
    "       titleweight='bold', titlesize=18, titlepad=10)\n",
    "plt.rc('animation', html='html5')\n",
    "\n",
    "# Setup feedback system\n",
    "from learntools.core import binder\n",
    "binder.bind(globals())\n",
    "from learntools.deep_learning_intro.ex6 import *"
   ]
  },
  {
   "cell_type": "markdown",
   "id": "4ba7f10a",
   "metadata": {
    "papermill": {
     "duration": 0.003507,
     "end_time": "2024-12-27T10:28:06.923371",
     "exception": false,
     "start_time": "2024-12-27T10:28:06.919864",
     "status": "completed"
    },
    "tags": []
   },
   "source": [
    "First, load the *Hotel Cancellations* dataset."
   ]
  },
  {
   "cell_type": "code",
   "execution_count": 2,
   "id": "9f2c06f5",
   "metadata": {
    "execution": {
     "iopub.execute_input": "2024-12-27T10:28:06.933096Z",
     "iopub.status.busy": "2024-12-27T10:28:06.932470Z",
     "iopub.status.idle": "2024-12-27T10:28:10.197257Z",
     "shell.execute_reply": "2024-12-27T10:28:10.196087Z"
    },
    "lines_to_next_cell": 2,
    "papermill": {
     "duration": 3.272803,
     "end_time": "2024-12-27T10:28:10.199984",
     "exception": false,
     "start_time": "2024-12-27T10:28:06.927181",
     "status": "completed"
    },
    "tags": []
   },
   "outputs": [],
   "source": [
    "import pandas as pd\n",
    "\n",
    "from sklearn.model_selection import train_test_split\n",
    "from sklearn.preprocessing import StandardScaler, OneHotEncoder\n",
    "from sklearn.impute import SimpleImputer\n",
    "from sklearn.pipeline import make_pipeline\n",
    "from sklearn.compose import make_column_transformer\n",
    "\n",
    "hotel = pd.read_csv('../input/dl-course-data/hotel.csv')\n",
    "\n",
    "X = hotel.copy()\n",
    "y = X.pop('is_canceled')\n",
    "\n",
    "X['arrival_date_month'] = \\\n",
    "    X['arrival_date_month'].map(\n",
    "        {'January':1, 'February': 2, 'March':3,\n",
    "         'April':4, 'May':5, 'June':6, 'July':7,\n",
    "         'August':8, 'September':9, 'October':10,\n",
    "         'November':11, 'December':12}\n",
    "    )\n",
    "\n",
    "features_num = [\n",
    "    \"lead_time\", \"arrival_date_week_number\",\n",
    "    \"arrival_date_day_of_month\", \"stays_in_weekend_nights\",\n",
    "    \"stays_in_week_nights\", \"adults\", \"children\", \"babies\",\n",
    "    \"is_repeated_guest\", \"previous_cancellations\",\n",
    "    \"previous_bookings_not_canceled\", \"required_car_parking_spaces\",\n",
    "    \"total_of_special_requests\", \"adr\",\n",
    "]\n",
    "features_cat = [\n",
    "    \"hotel\", \"arrival_date_month\", \"meal\",\n",
    "    \"market_segment\", \"distribution_channel\",\n",
    "    \"reserved_room_type\", \"deposit_type\", \"customer_type\",\n",
    "]\n",
    "\n",
    "transformer_num = make_pipeline(\n",
    "    SimpleImputer(strategy=\"constant\"), # there are a few missing values\n",
    "    StandardScaler(),\n",
    ")\n",
    "transformer_cat = make_pipeline(\n",
    "    SimpleImputer(strategy=\"constant\", fill_value=\"NA\"),\n",
    "    OneHotEncoder(handle_unknown='ignore'),\n",
    ")\n",
    "\n",
    "preprocessor = make_column_transformer(\n",
    "    (transformer_num, features_num),\n",
    "    (transformer_cat, features_cat),\n",
    ")\n",
    "\n",
    "# stratify - make sure classes are evenlly represented across splits\n",
    "X_train, X_valid, y_train, y_valid = \\\n",
    "    train_test_split(X, y, stratify=y, train_size=0.75)\n",
    "\n",
    "X_train = preprocessor.fit_transform(X_train)\n",
    "X_valid = preprocessor.transform(X_valid)\n",
    "\n",
    "input_shape = [X_train.shape[1]]"
   ]
  },
  {
   "cell_type": "code",
   "execution_count": 3,
   "id": "04111da5",
   "metadata": {
    "execution": {
     "iopub.execute_input": "2024-12-27T10:28:10.209586Z",
     "iopub.status.busy": "2024-12-27T10:28:10.209220Z",
     "iopub.status.idle": "2024-12-27T10:28:10.217356Z",
     "shell.execute_reply": "2024-12-27T10:28:10.216132Z"
    },
    "papermill": {
     "duration": 0.015644,
     "end_time": "2024-12-27T10:28:10.219680",
     "exception": false,
     "start_time": "2024-12-27T10:28:10.204036",
     "status": "completed"
    },
    "tags": []
   },
   "outputs": [
    {
     "data": {
      "text/plain": [
       "(119390, 32)"
      ]
     },
     "execution_count": 3,
     "metadata": {},
     "output_type": "execute_result"
    }
   ],
   "source": [
    "hotel.shape"
   ]
  },
  {
   "cell_type": "markdown",
   "id": "924002d5",
   "metadata": {
    "papermill": {
     "duration": 0.003639,
     "end_time": "2024-12-27T10:28:10.227162",
     "exception": false,
     "start_time": "2024-12-27T10:28:10.223523",
     "status": "completed"
    },
    "tags": []
   },
   "source": [
    "# 1) Define Model #\n",
    "\n",
    "The model we'll use this time will have both batch normalization and dropout layers. To ease reading we've broken the diagram into blocks, but you can define it layer by layer as usual.\n",
    "\n",
    "Define a model with an architecture given by this diagram:\n",
    "\n",
    "<figure style=\"padding: 1em;\">\n",
    "<img src=\"https://storage.googleapis.com/kaggle-media/learn/images/V04o59Z.png\" width=\"400\" alt=\"Diagram of network architecture: BatchNorm, Dense, BatchNorm, Dropout, Dense, BatchNorm, Dropout, Dense.\">\n",
    "<figcaption style=\"textalign: center; font-style: italic\"><center>Diagram of a binary classifier.</center></figcaption>\n",
    "</figure>\n"
   ]
  },
  {
   "cell_type": "code",
   "execution_count": 4,
   "id": "ef4ea56d",
   "metadata": {
    "execution": {
     "iopub.execute_input": "2024-12-27T10:28:10.236628Z",
     "iopub.status.busy": "2024-12-27T10:28:10.236273Z",
     "iopub.status.idle": "2024-12-27T10:28:25.392249Z",
     "shell.execute_reply": "2024-12-27T10:28:25.390609Z"
    },
    "lines_to_next_cell": 2,
    "papermill": {
     "duration": 15.16356,
     "end_time": "2024-12-27T10:28:25.394697",
     "exception": false,
     "start_time": "2024-12-27T10:28:10.231137",
     "status": "completed"
    },
    "tags": []
   },
   "outputs": [
    {
     "name": "stderr",
     "output_type": "stream",
     "text": [
      "2024-12-27 10:28:12.613162: E external/local_xla/xla/stream_executor/cuda/cuda_dnn.cc:9261] Unable to register cuDNN factory: Attempting to register factory for plugin cuDNN when one has already been registered\n",
      "2024-12-27 10:28:12.613364: E external/local_xla/xla/stream_executor/cuda/cuda_fft.cc:607] Unable to register cuFFT factory: Attempting to register factory for plugin cuFFT when one has already been registered\n",
      "2024-12-27 10:28:12.788380: E external/local_xla/xla/stream_executor/cuda/cuda_blas.cc:1515] Unable to register cuBLAS factory: Attempting to register factory for plugin cuBLAS when one has already been registered\n"
     ]
    },
    {
     "data": {
      "application/javascript": [
       "parent.postMessage({\"jupyterEvent\": \"custom.exercise_interaction\", \"data\": {\"outcomeType\": 1, \"valueTowardsCompletion\": 0.3333333333333333, \"interactionType\": 1, \"questionType\": 2, \"questionId\": \"1_Q1\", \"learnToolsVersion\": \"0.3.4\", \"failureMessage\": \"\", \"exceptionClass\": \"\", \"trace\": \"\"}}, \"*\")"
      ],
      "text/plain": [
       "<IPython.core.display.Javascript object>"
      ]
     },
     "metadata": {},
     "output_type": "display_data"
    },
    {
     "data": {
      "text/markdown": [
       "<span style=\"color:#33cc33\">Correct</span>"
      ],
      "text/plain": [
       "Correct"
      ]
     },
     "metadata": {},
     "output_type": "display_data"
    }
   ],
   "source": [
    "from tensorflow import keras\n",
    "from tensorflow.keras import layers\n",
    "\n",
    "# YOUR CODE HERE: define the model given in the diagram\n",
    "model = keras.Sequential([\n",
    "    layers.BatchNormalization(input_shape=input_shape),\n",
    "    \n",
    "    layers.Dense(256, activation='relu'),\n",
    "    layers.BatchNormalization(),\n",
    "    layers.Dropout(0.3),\n",
    "    \n",
    "    layers.Dense(256, activation='relu'),\n",
    "    layers.BatchNormalization(),\n",
    "    layers.Dropout(0.3),\n",
    "\n",
    "    layers.Dense(1, activation='sigmoid')\n",
    "])\n",
    "\n",
    "# Check your answer\n",
    "q_1.check()"
   ]
  },
  {
   "cell_type": "markdown",
   "id": "ecfa1470",
   "metadata": {
    "papermill": {
     "duration": 0.009907,
     "end_time": "2024-12-27T10:28:25.412452",
     "exception": false,
     "start_time": "2024-12-27T10:28:25.402545",
     "status": "completed"
    },
    "tags": []
   },
   "source": [
    "# 2) Add Optimizer, Loss, and Metric #\n",
    "\n",
    "Now compile the model with the Adam optimizer and binary versions of the cross-entropy loss and accuracy metric."
   ]
  },
  {
   "cell_type": "code",
   "execution_count": 5,
   "id": "a09ad406",
   "metadata": {
    "execution": {
     "iopub.execute_input": "2024-12-27T10:28:25.424157Z",
     "iopub.status.busy": "2024-12-27T10:28:25.423667Z",
     "iopub.status.idle": "2024-12-27T10:28:25.455620Z",
     "shell.execute_reply": "2024-12-27T10:28:25.454423Z"
    },
    "lines_to_next_cell": 0,
    "papermill": {
     "duration": 0.0415,
     "end_time": "2024-12-27T10:28:25.458543",
     "exception": false,
     "start_time": "2024-12-27T10:28:25.417043",
     "status": "completed"
    },
    "tags": []
   },
   "outputs": [
    {
     "data": {
      "application/javascript": [
       "parent.postMessage({\"jupyterEvent\": \"custom.exercise_interaction\", \"data\": {\"outcomeType\": 1, \"valueTowardsCompletion\": 0.3333333333333333, \"interactionType\": 1, \"questionType\": 2, \"questionId\": \"2_Q2\", \"learnToolsVersion\": \"0.3.4\", \"failureMessage\": \"\", \"exceptionClass\": \"\", \"trace\": \"\"}}, \"*\")"
      ],
      "text/plain": [
       "<IPython.core.display.Javascript object>"
      ]
     },
     "metadata": {},
     "output_type": "display_data"
    },
    {
     "data": {
      "text/markdown": [
       "<span style=\"color:#33cc33\">Correct</span>"
      ],
      "text/plain": [
       "Correct"
      ]
     },
     "metadata": {},
     "output_type": "display_data"
    }
   ],
   "source": [
    "# YOUR CODE HERE\n",
    "model.compile(\n",
    "    optimizer='adam',\n",
    "    loss='binary_crossentropy',\n",
    "    metrics=['binary_accuracy'],\n",
    ")\n",
    "\n",
    "# Check your answer\n",
    "q_2.check()"
   ]
  },
  {
   "cell_type": "code",
   "execution_count": 6,
   "id": "1d375cc2",
   "metadata": {
    "execution": {
     "iopub.execute_input": "2024-12-27T10:28:25.471024Z",
     "iopub.status.busy": "2024-12-27T10:28:25.469787Z",
     "iopub.status.idle": "2024-12-27T10:28:25.483622Z",
     "shell.execute_reply": "2024-12-27T10:28:25.482480Z"
    },
    "lines_to_next_cell": 0,
    "papermill": {
     "duration": 0.02295,
     "end_time": "2024-12-27T10:28:25.486413",
     "exception": false,
     "start_time": "2024-12-27T10:28:25.463463",
     "status": "completed"
    },
    "tags": []
   },
   "outputs": [
    {
     "data": {
      "application/javascript": [
       "parent.postMessage({\"jupyterEvent\": \"custom.exercise_interaction\", \"data\": {\"interactionType\": 2, \"questionType\": 2, \"questionId\": \"2_Q2\", \"learnToolsVersion\": \"0.3.4\", \"valueTowardsCompletion\": 0.0, \"failureMessage\": \"\", \"exceptionClass\": \"\", \"trace\": \"\", \"outcomeType\": 4}}, \"*\")"
      ],
      "text/plain": [
       "<IPython.core.display.Javascript object>"
      ]
     },
     "metadata": {},
     "output_type": "display_data"
    },
    {
     "data": {
      "text/markdown": [
       "<span style=\"color:#3366cc\">Hint:</span> Your code should look something like:\n",
       "```python\n",
       "model.compile(\n",
       "optimizer=____,\n",
       "loss=____,\n",
       "metrics=____,\n",
       ")\n",
       "```\n"
      ],
      "text/plain": [
       "Hint: Your code should look something like:\n",
       "```python\n",
       "model.compile(\n",
       "optimizer=____,\n",
       "loss=____,\n",
       "metrics=____,\n",
       ")\n",
       "```"
      ]
     },
     "metadata": {},
     "output_type": "display_data"
    },
    {
     "data": {
      "application/javascript": [
       "parent.postMessage({\"jupyterEvent\": \"custom.exercise_interaction\", \"data\": {\"interactionType\": 3, \"questionType\": 2, \"questionId\": \"2_Q2\", \"learnToolsVersion\": \"0.3.4\", \"valueTowardsCompletion\": 0.0, \"failureMessage\": \"\", \"exceptionClass\": \"\", \"trace\": \"\", \"outcomeType\": 4}}, \"*\")"
      ],
      "text/plain": [
       "<IPython.core.display.Javascript object>"
      ]
     },
     "metadata": {},
     "output_type": "display_data"
    },
    {
     "data": {
      "text/markdown": [
       "<span style=\"color:#33cc99\">Solution:</span> \n",
       "```python\n",
       "\n",
       "model.compile(\n",
       "    optimizer='adam',\n",
       "    loss='binary_crossentropy',\n",
       "    metrics=['binary_accuracy'],\n",
       ")\n",
       "\n",
       "```"
      ],
      "text/plain": [
       "Solution: \n",
       "```python\n",
       "\n",
       "model.compile(\n",
       "    optimizer='adam',\n",
       "    loss='binary_crossentropy',\n",
       "    metrics=['binary_accuracy'],\n",
       ")\n",
       "\n",
       "```"
      ]
     },
     "metadata": {},
     "output_type": "display_data"
    }
   ],
   "source": [
    "# Lines below will give you a hint or solution code\n",
    "q_2.hint()\n",
    "q_2.solution()"
   ]
  },
  {
   "cell_type": "markdown",
   "id": "00ac9058",
   "metadata": {
    "papermill": {
     "duration": 0.004729,
     "end_time": "2024-12-27T10:28:25.496168",
     "exception": false,
     "start_time": "2024-12-27T10:28:25.491439",
     "status": "completed"
    },
    "tags": []
   },
   "source": [
    "Finally, run this cell to train the model and view the learning curves. It may run for around 60 to 70 epochs, which could take a minute or two."
   ]
  },
  {
   "cell_type": "code",
   "execution_count": 7,
   "id": "6eb0c69d",
   "metadata": {
    "execution": {
     "iopub.execute_input": "2024-12-27T10:28:25.509720Z",
     "iopub.status.busy": "2024-12-27T10:28:25.509326Z",
     "iopub.status.idle": "2024-12-27T10:30:17.259269Z",
     "shell.execute_reply": "2024-12-27T10:30:17.257712Z"
    },
    "papermill": {
     "duration": 111.758914,
     "end_time": "2024-12-27T10:30:17.262034",
     "exception": false,
     "start_time": "2024-12-27T10:28:25.503120",
     "status": "completed"
    },
    "tags": []
   },
   "outputs": [
    {
     "name": "stdout",
     "output_type": "stream",
     "text": [
      "Epoch 1/200\n",
      "175/175 [==============================] - 5s 19ms/step - loss: 0.4800 - binary_accuracy: 0.7746 - val_loss: 0.4315 - val_binary_accuracy: 0.7954\n",
      "Epoch 2/200\n",
      "175/175 [==============================] - 3s 16ms/step - loss: 0.4223 - binary_accuracy: 0.8019 - val_loss: 0.4036 - val_binary_accuracy: 0.8131\n",
      "Epoch 3/200\n",
      "175/175 [==============================] - 3s 16ms/step - loss: 0.4092 - binary_accuracy: 0.8087 - val_loss: 0.3984 - val_binary_accuracy: 0.8171\n",
      "Epoch 4/200\n",
      "175/175 [==============================] - 3s 17ms/step - loss: 0.4010 - binary_accuracy: 0.8126 - val_loss: 0.3923 - val_binary_accuracy: 0.8204\n",
      "Epoch 5/200\n",
      "175/175 [==============================] - 3s 18ms/step - loss: 0.3965 - binary_accuracy: 0.8152 - val_loss: 0.3875 - val_binary_accuracy: 0.8204\n",
      "Epoch 6/200\n",
      "175/175 [==============================] - 3s 17ms/step - loss: 0.3921 - binary_accuracy: 0.8171 - val_loss: 0.3842 - val_binary_accuracy: 0.8229\n",
      "Epoch 7/200\n",
      "175/175 [==============================] - 3s 17ms/step - loss: 0.3883 - binary_accuracy: 0.8188 - val_loss: 0.3836 - val_binary_accuracy: 0.8248\n",
      "Epoch 8/200\n",
      "175/175 [==============================] - 3s 17ms/step - loss: 0.3848 - binary_accuracy: 0.8214 - val_loss: 0.3794 - val_binary_accuracy: 0.8283\n",
      "Epoch 9/200\n",
      "175/175 [==============================] - 3s 17ms/step - loss: 0.3817 - binary_accuracy: 0.8225 - val_loss: 0.3842 - val_binary_accuracy: 0.8222\n",
      "Epoch 10/200\n",
      "175/175 [==============================] - 3s 17ms/step - loss: 0.3786 - binary_accuracy: 0.8253 - val_loss: 0.3748 - val_binary_accuracy: 0.8293\n",
      "Epoch 11/200\n",
      "175/175 [==============================] - 3s 17ms/step - loss: 0.3766 - binary_accuracy: 0.8258 - val_loss: 0.3729 - val_binary_accuracy: 0.8303\n",
      "Epoch 12/200\n",
      "175/175 [==============================] - 3s 16ms/step - loss: 0.3743 - binary_accuracy: 0.8275 - val_loss: 0.3760 - val_binary_accuracy: 0.8256\n",
      "Epoch 13/200\n",
      "175/175 [==============================] - 3s 16ms/step - loss: 0.3732 - binary_accuracy: 0.8275 - val_loss: 0.3722 - val_binary_accuracy: 0.8284\n",
      "Epoch 14/200\n",
      "175/175 [==============================] - 3s 16ms/step - loss: 0.3703 - binary_accuracy: 0.8298 - val_loss: 0.3700 - val_binary_accuracy: 0.8289\n",
      "Epoch 15/200\n",
      "175/175 [==============================] - 3s 17ms/step - loss: 0.3678 - binary_accuracy: 0.8301 - val_loss: 0.3661 - val_binary_accuracy: 0.8314\n",
      "Epoch 16/200\n",
      "175/175 [==============================] - 3s 18ms/step - loss: 0.3666 - binary_accuracy: 0.8312 - val_loss: 0.3658 - val_binary_accuracy: 0.8323\n",
      "Epoch 17/200\n",
      "175/175 [==============================] - 3s 16ms/step - loss: 0.3638 - binary_accuracy: 0.8324 - val_loss: 0.3656 - val_binary_accuracy: 0.8319\n",
      "Epoch 18/200\n",
      "175/175 [==============================] - 3s 17ms/step - loss: 0.3634 - binary_accuracy: 0.8319 - val_loss: 0.3643 - val_binary_accuracy: 0.8317\n",
      "Epoch 19/200\n",
      "175/175 [==============================] - 3s 17ms/step - loss: 0.3607 - binary_accuracy: 0.8332 - val_loss: 0.3658 - val_binary_accuracy: 0.8314\n",
      "Epoch 20/200\n",
      "175/175 [==============================] - 3s 17ms/step - loss: 0.3600 - binary_accuracy: 0.8339 - val_loss: 0.3598 - val_binary_accuracy: 0.8340\n",
      "Epoch 21/200\n",
      "175/175 [==============================] - 3s 17ms/step - loss: 0.3566 - binary_accuracy: 0.8355 - val_loss: 0.3615 - val_binary_accuracy: 0.8327\n",
      "Epoch 22/200\n",
      "175/175 [==============================] - 3s 16ms/step - loss: 0.3567 - binary_accuracy: 0.8365 - val_loss: 0.3603 - val_binary_accuracy: 0.8358\n",
      "Epoch 23/200\n",
      "175/175 [==============================] - 3s 16ms/step - loss: 0.3554 - binary_accuracy: 0.8359 - val_loss: 0.3589 - val_binary_accuracy: 0.8364\n",
      "Epoch 24/200\n",
      "175/175 [==============================] - 3s 16ms/step - loss: 0.3526 - binary_accuracy: 0.8380 - val_loss: 0.3583 - val_binary_accuracy: 0.8348\n",
      "Epoch 25/200\n",
      "175/175 [==============================] - 3s 17ms/step - loss: 0.3531 - binary_accuracy: 0.8376 - val_loss: 0.3578 - val_binary_accuracy: 0.8349\n",
      "Epoch 26/200\n",
      "175/175 [==============================] - 3s 16ms/step - loss: 0.3506 - binary_accuracy: 0.8385 - val_loss: 0.3568 - val_binary_accuracy: 0.8351\n",
      "Epoch 27/200\n",
      "175/175 [==============================] - 3s 18ms/step - loss: 0.3519 - binary_accuracy: 0.8384 - val_loss: 0.3577 - val_binary_accuracy: 0.8342\n",
      "Epoch 28/200\n",
      "175/175 [==============================] - 3s 16ms/step - loss: 0.3495 - binary_accuracy: 0.8387 - val_loss: 0.3582 - val_binary_accuracy: 0.8339\n",
      "Epoch 29/200\n",
      "175/175 [==============================] - 3s 16ms/step - loss: 0.3494 - binary_accuracy: 0.8397 - val_loss: 0.3575 - val_binary_accuracy: 0.8351\n",
      "Epoch 30/200\n",
      "175/175 [==============================] - 3s 17ms/step - loss: 0.3467 - binary_accuracy: 0.8397 - val_loss: 0.3556 - val_binary_accuracy: 0.8356\n",
      "Epoch 31/200\n",
      "175/175 [==============================] - 3s 16ms/step - loss: 0.3478 - binary_accuracy: 0.8393 - val_loss: 0.3554 - val_binary_accuracy: 0.8366\n",
      "Epoch 32/200\n",
      "175/175 [==============================] - 3s 17ms/step - loss: 0.3454 - binary_accuracy: 0.8412 - val_loss: 0.3529 - val_binary_accuracy: 0.8375\n",
      "Epoch 33/200\n",
      "175/175 [==============================] - 3s 17ms/step - loss: 0.3440 - binary_accuracy: 0.8421 - val_loss: 0.3545 - val_binary_accuracy: 0.8366\n",
      "Epoch 34/200\n",
      "175/175 [==============================] - 3s 17ms/step - loss: 0.3439 - binary_accuracy: 0.8412 - val_loss: 0.3535 - val_binary_accuracy: 0.8394\n",
      "Epoch 35/200\n",
      "175/175 [==============================] - 3s 17ms/step - loss: 0.3434 - binary_accuracy: 0.8419 - val_loss: 0.3533 - val_binary_accuracy: 0.8362\n",
      "Epoch 36/200\n",
      "175/175 [==============================] - 3s 17ms/step - loss: 0.3428 - binary_accuracy: 0.8426 - val_loss: 0.3553 - val_binary_accuracy: 0.8363\n",
      "Epoch 37/200\n",
      "175/175 [==============================] - 3s 17ms/step - loss: 0.3408 - binary_accuracy: 0.8421 - val_loss: 0.3534 - val_binary_accuracy: 0.8373\n"
     ]
    },
    {
     "data": {
      "text/plain": [
       "<Axes: title={'center': 'Accuracy'}>"
      ]
     },
     "execution_count": 7,
     "metadata": {},
     "output_type": "execute_result"
    },
    {
     "data": {
      "image/png": "[encoded data removed]",
      "text/plain": [
       "<Figure size 640x480 with 1 Axes>"
      ]
     },
     "metadata": {},
     "output_type": "display_data"
    },
    {
     "data": {
      "image/png": "[encoded data removed]",
      "text/plain": [
       "<Figure size 640x480 with 1 Axes>"
      ]
     },
     "metadata": {},
     "output_type": "display_data"
    }
   ],
   "source": [
    "early_stopping = keras.callbacks.EarlyStopping(\n",
    "    patience=5,\n",
    "    min_delta=0.001,\n",
    "    restore_best_weights=True,\n",
    ")\n",
    "history = model.fit(\n",
    "    X_train, y_train,\n",
    "    validation_data=(X_valid, y_valid),\n",
    "    batch_size=512,\n",
    "    epochs=200,\n",
    "    callbacks=[early_stopping],\n",
    ")\n",
    "\n",
    "history_df = pd.DataFrame(history.history)\n",
    "history_df.loc[:, ['loss', 'val_loss']].plot(title=\"Cross-entropy\")\n",
    "history_df.loc[:, ['binary_accuracy', 'val_binary_accuracy']].plot(title=\"Accuracy\")"
   ]
  },
  {
   "cell_type": "markdown",
   "id": "784a9cd8",
   "metadata": {
    "papermill": {
     "duration": 0.213131,
     "end_time": "2024-12-27T10:30:17.593460",
     "exception": false,
     "start_time": "2024-12-27T10:30:17.380329",
     "status": "completed"
    },
    "tags": []
   },
   "source": [
    "# 3) Train and Evaluate #\n",
    "\n",
    "\n",
    "What do you think about the learning curves? Does it look like the model underfit or overfit? Was the cross-entropy loss a good stand-in for accuracy?"
   ]
  },
  {
   "cell_type": "code",
   "execution_count": 8,
   "id": "33ef6725",
   "metadata": {
    "execution": {
     "iopub.execute_input": "2024-12-27T10:30:17.811993Z",
     "iopub.status.busy": "2024-12-27T10:30:17.811452Z",
     "iopub.status.idle": "2024-12-27T10:30:17.822990Z",
     "shell.execute_reply": "2024-12-27T10:30:17.821491Z"
    },
    "papermill": {
     "duration": 0.12642,
     "end_time": "2024-12-27T10:30:17.825717",
     "exception": false,
     "start_time": "2024-12-27T10:30:17.699297",
     "status": "completed"
    },
    "tags": []
   },
   "outputs": [
    {
     "data": {
      "application/javascript": [
       "parent.postMessage({\"jupyterEvent\": \"custom.exercise_interaction\", \"data\": {\"outcomeType\": 1, \"valueTowardsCompletion\": 0.3333333333333333, \"interactionType\": 1, \"questionType\": 4, \"questionId\": \"3_Q3\", \"learnToolsVersion\": \"0.3.4\", \"failureMessage\": \"\", \"exceptionClass\": \"\", \"trace\": \"\"}}, \"*\")"
      ],
      "text/plain": [
       "<IPython.core.display.Javascript object>"
      ]
     },
     "metadata": {},
     "output_type": "display_data"
    },
    {
     "data": {
      "text/markdown": [
       "<span style=\"color:#33cc33\">Correct:</span> \n",
       "\n",
       "Though we can see the training loss continuing to fall, the early stopping callback prevented any overfitting. Moreover, the accuracy rose at the same rate as the cross-entropy fell, so it appears that minimizing cross-entropy was a good stand-in. All in all, it looks like this training was a success!"
      ],
      "text/plain": [
       "Correct: \n",
       "\n",
       "Though we can see the training loss continuing to fall, the early stopping callback prevented any overfitting. Moreover, the accuracy rose at the same rate as the cross-entropy fell, so it appears that minimizing cross-entropy was a good stand-in. All in all, it looks like this training was a success!"
      ]
     },
     "metadata": {},
     "output_type": "display_data"
    }
   ],
   "source": [
    "# View the solution (Run this cell to receive credit!)\n",
    "q_3.check()"
   ]
  },
  {
   "cell_type": "markdown",
   "id": "bb8010a5",
   "metadata": {
    "papermill": {
     "duration": 0.114413,
     "end_time": "2024-12-27T10:30:18.045523",
     "exception": false,
     "start_time": "2024-12-27T10:30:17.931110",
     "status": "completed"
    },
    "tags": []
   },
   "source": [
    "# Conclusion #\n",
    "\n",
    "Congratulations! You've completed Kaggle's *Introduction to Deep Learning* course!\n",
    "\n",
    "With your new skills you're ready to take on more advanced applications like computer vision and sentiment classification. What would you like to do next?\n",
    "\n",
    "Why not try one of our *Getting Started* competitions?\n",
    "\n",
    "- Classify images with TPUs in [**Petals to the Metal**](https://www.kaggle.com/c/tpu-getting-started)\n",
    "- Create art with GANs in [**I'm Something of a Painter Myself**](https://www.kaggle.com/c/gan-getting-started)\n",
    "- Classify Tweets in [**Real or Not? NLP with Disaster Tweets**](https://www.kaggle.com/c/nlp-getting-started)\n",
    "- Detect contradiction and entailment in [**Contradictory, My Dear Watson**](https://www.kaggle.com/c/contradictory-my-dear-watson)\n",
    "\n",
    "Until next time, Kagglers!"
   ]
  },
  {
   "cell_type": "markdown",
   "id": "7f8c795b",
   "metadata": {
    "papermill": {
     "duration": 0.11861,
     "end_time": "2024-12-27T10:30:18.275196",
     "exception": false,
     "start_time": "2024-12-27T10:30:18.156586",
     "status": "completed"
    },
    "tags": []
   },
   "source": [
    "---\n",
    "\n",
    "\n",
    "\n",
    "\n",
    "*Have questions or comments? Visit the [course discussion forum](https://www.kaggle.com/learn/intro-to-deep-learning/discussion) to chat with other learners.*"
   ]
  }
 ],
 "metadata": {
  "jupytext": {
   "cell_metadata_filter": "-all",
   "formats": "ipynb"
  },
  "kaggle": {
   "accelerator": "gpu",
   "dataSources": [
    {
     "datasetId": 829369,
     "sourceId": 1480608,
     "sourceType": "datasetVersion"
    }
   ],
   "dockerImageVersionId": 30648,
   "isGpuEnabled": true,
   "isInternetEnabled": false,
   "language": "python",
   "sourceType": "notebook"
  },
  "kernelspec": {
   "display_name": "Python 3",
   "language": "python",
   "name": "python3"
  },
  "language_info": {
   "codemirror_mode": {
    "name": "ipython",
    "version": 3
   },
   "file_extension": ".py",
   "mimetype": "text/x-python",
   "name": "python",
   "nbconvert_exporter": "python",
   "pygments_lexer": "ipython3",
   "version": "3.10.13"
  },
  "papermill": {
   "default_parameters": {},
   "duration": 138.815527,
   "end_time": "2024-12-27T10:30:21.177532",
   "environment_variables": {},
   "exception": null,
   "input_path": "__notebook__.ipynb",
   "output_path": "__notebook__.ipynb",
   "parameters": {},
   "start_time": "2024-12-27T10:28:02.362005",
   "version": "2.5.0"
  }
 },
 "nbformat": 4,
 "nbformat_minor": 5
}
